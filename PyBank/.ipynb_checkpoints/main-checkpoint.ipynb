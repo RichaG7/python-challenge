{
 "cells": [
  {
   "cell_type": "code",
   "execution_count": 29,
   "metadata": {},
   "outputs": [
    {
     "name": "stdout",
     "output_type": "stream",
     "text": [
      "86\n",
      "38382578.0\n",
      "446309.0465116279\n",
      "1170593\n",
      "-1196225\n"
     ]
    },
    {
     "ename": "NameError",
     "evalue": "name 'max_increase_month' is not defined",
     "output_type": "error",
     "traceback": [
      "\u001b[0;31m---------------------------------------------------------------------------\u001b[0m",
      "\u001b[0;31mNameError\u001b[0m                                 Traceback (most recent call last)",
      "\u001b[0;32m<ipython-input-29-a4a7470614ff>\u001b[0m in \u001b[0;36m<module>\u001b[0;34m\u001b[0m\n\u001b[1;32m     28\u001b[0m         \u001b[0;32mif\u001b[0m \u001b[0mint\u001b[0m\u001b[0;34m(\u001b[0m\u001b[0mrow\u001b[0m\u001b[0;34m[\u001b[0m\u001b[0;36m1\u001b[0m\u001b[0;34m]\u001b[0m\u001b[0;34m)\u001b[0m \u001b[0;34m==\u001b[0m \u001b[0mmax_decrease\u001b[0m\u001b[0;34m:\u001b[0m\u001b[0;34m\u001b[0m\u001b[0;34m\u001b[0m\u001b[0m\n\u001b[1;32m     29\u001b[0m             \u001b[0mmax_decrease_month\u001b[0m \u001b[0;34m=\u001b[0m \u001b[0mrow\u001b[0m\u001b[0;34m[\u001b[0m\u001b[0;36m0\u001b[0m\u001b[0;34m]\u001b[0m\u001b[0;34m\u001b[0m\u001b[0;34m\u001b[0m\u001b[0m\n\u001b[0;32m---> 30\u001b[0;31m     \u001b[0mprint\u001b[0m\u001b[0;34m(\u001b[0m\u001b[0mmax_increase_month\u001b[0m\u001b[0;34m)\u001b[0m\u001b[0;34m\u001b[0m\u001b[0;34m\u001b[0m\u001b[0m\n\u001b[0m\u001b[1;32m     31\u001b[0m     \u001b[0mprint\u001b[0m\u001b[0;34m(\u001b[0m\u001b[0mmax_decrease_month\u001b[0m\u001b[0;34m)\u001b[0m\u001b[0;34m\u001b[0m\u001b[0;34m\u001b[0m\u001b[0m\n",
      "\u001b[0;31mNameError\u001b[0m: name 'max_increase_month' is not defined"
     ]
    }
   ],
   "source": [
    "import os\n",
    "import csv\n",
    "\n",
    "with open('budget_data.csv', 'r') as csvfile:\n",
    "    budget_reader = csv.reader(csvfile, delimiter=',')\n",
    "    next(budget_reader)\n",
    "    months = 0\n",
    "    total_profitslosses = 0\n",
    "    avg_profitslosses = 0\n",
    "    max_increase = 0\n",
    "    max_decrease = 0\n",
    "    for row in budget_reader:\n",
    "        months = months+1\n",
    "        total_profitslosses = total_profitslosses + float(row[1])\n",
    "        if int(row[1]) > max_increase:\n",
    "            max_increase = int(row[1])\n",
    "        if int(row[1]) < max_decrease:\n",
    "            max_decrease = int(row[1])\n",
    "    print(months)\n",
    "    print(total_profitslosses)\n",
    "    avg_profitslosses = total_profitslosses / months\n",
    "    print(avg_profitslosses)\n",
    "    print(max_increase)\n",
    "    print(max_decrease)\n",
    "    for row in budget_reader:\n",
    "        if int(row[1]) == max_increase:\n",
    "            max_increase_month = row[0]\n",
    "        if int(row[1]) == max_decrease:\n",
    "            max_decrease_month = row[0]\n",
    "    print(max_increase_month)\n",
    "    print(max_decrease_month)"
   ]
  },
  {
   "cell_type": "code",
   "execution_count": null,
   "metadata": {},
   "outputs": [],
   "source": []
  }
 ],
 "metadata": {
  "kernelspec": {
   "display_name": "Python 3",
   "language": "python",
   "name": "python3"
  },
  "language_info": {
   "codemirror_mode": {
    "name": "ipython",
    "version": 3
   },
   "file_extension": ".py",
   "mimetype": "text/x-python",
   "name": "python",
   "nbconvert_exporter": "python",
   "pygments_lexer": "ipython3",
   "version": "3.7.4"
  }
 },
 "nbformat": 4,
 "nbformat_minor": 2
}
