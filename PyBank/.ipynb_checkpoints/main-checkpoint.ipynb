{
 "cells": [
  {
   "cell_type": "code",
   "execution_count": 23,
   "metadata": {},
   "outputs": [
    {
     "name": "stdout",
     "output_type": "stream",
     "text": [
      "Financial Analysis\n",
      "----------------------------\n",
      "Total Months: 86\n",
      "Total: 38382578.0\n",
      "Average Change: 446309.05\n",
      "Greatest Increase in Profits: 1170593 (Feb-2012)\n",
      "Greatest Decrease in Profits: -1196225 (Sep-2013)\n"
     ]
    }
   ],
   "source": [
    "import os\n",
    "import csv\n",
    "\n",
    "with open('budget_data.csv', 'r') as csvfile:\n",
    "    budget_reader = csv.reader(csvfile, delimiter=',')\n",
    "    next(budget_reader)\n",
    "    months = 0\n",
    "    total_profitslosses = 0\n",
    "    avg_profitslosses = 0\n",
    "    max_increase = 0\n",
    "    max_increase_month = ''\n",
    "    max_decrease = 0\n",
    "    max_decrease_month = ''\n",
    "    for row in budget_reader:\n",
    "        months = months+1\n",
    "        total_profitslosses = total_profitslosses + float(row[1])\n",
    "        if int(row[1]) > max_increase:\n",
    "            max_increase = int(row[1])\n",
    "            max_increase_month = row[0]\n",
    "        if int(row[1]) < max_decrease:\n",
    "            max_decrease = int(row[1])\n",
    "            max_decrease_month = row[0]\n",
    "    avg_profitslosses = total_profitslosses / months\n",
    "    print(\"Financial Analysis\" + \n",
    "          '\\n' + \n",
    "          '----------------------------' + \n",
    "          '\\n' + \n",
    "          f\"Total Months: {months}\" + \n",
    "          '\\n' + \n",
    "          f\"Total: {round(total_profitslosses, 2)}\" + \n",
    "          '\\n' + \n",
    "          f\"Average Change: {round(avg_profitslosses, 2)}\" + \n",
    "          '\\n' + \n",
    "          f\"Greatest Increase in Profits: {max_increase} ({max_increase_month})\" + \n",
    "          '\\n' + \n",
    "          f\"Greatest Decrease in Profits: {max_decrease} ({max_decrease_month})\")\n",
    "    with open('output.txt', 'w') as txtfile:\n",
    "            txtfile.write(\"Financial Analysis\" + \n",
    "          '\\n' + \n",
    "          '----------------------------' + \n",
    "          '\\n' + \n",
    "          f\"Total Months: {months}\" + \n",
    "          '\\n' + \n",
    "          f\"Total: {round(total_profitslosses, 2)}\" + \n",
    "          '\\n' + \n",
    "          f\"Average Change: {round(avg_profitslosses, 2)}\" + \n",
    "          '\\n' + \n",
    "          f\"Greatest Increase in Profits: {max_increase} ({max_increase_month})\" + \n",
    "          '\\n' + \n",
    "          f\"Greatest Decrease in Profits: {max_decrease} ({max_decrease_month})\")"
   ]
  },
  {
   "cell_type": "code",
   "execution_count": null,
   "metadata": {},
   "outputs": [],
   "source": []
  }
 ],
 "metadata": {
  "kernelspec": {
   "display_name": "Python 3",
   "language": "python",
   "name": "python3"
  },
  "language_info": {
   "codemirror_mode": {
    "name": "ipython",
    "version": 3
   },
   "file_extension": ".py",
   "mimetype": "text/x-python",
   "name": "python",
   "nbconvert_exporter": "python",
   "pygments_lexer": "ipython3",
   "version": "3.6.10"
  }
 },
 "nbformat": 4,
 "nbformat_minor": 2
}
