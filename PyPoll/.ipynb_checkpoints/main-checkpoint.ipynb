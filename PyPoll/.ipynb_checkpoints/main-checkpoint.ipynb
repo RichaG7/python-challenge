{
 "cells": [
  {
   "cell_type": "code",
   "execution_count": 38,
   "metadata": {},
   "outputs": [
    {
     "name": "stdout",
     "output_type": "stream",
     "text": [
      "Election Results\n",
      "-------------------------\n",
      "Total votes: 3521001\n",
      "-------------------------\n",
      "Khan: 63.0% (2218231)\n",
      "Correy: 20.0% (704200)\n",
      "Li: 14.0% (492940)\n",
      "O'Tooley: 3.0% (105630)\n",
      "-------------------------\n",
      "Winner: Khan\n",
      "-------------------------\n"
     ]
    }
   ],
   "source": [
    "import os\n",
    "import csv\n",
    "\n",
    "\n",
    "with open('election_data.csv', 'r') as csvfile:\n",
    "    election_reader = csv.reader(csvfile, delimiter=',')\n",
    "    next(election_reader)\n",
    "    total_votes = 0\n",
    "    candidates = {}\n",
    "    for row in election_reader:\n",
    "        total_votes = total_votes + 1\n",
    "        if row[2] not in candidates:\n",
    "            candidates[row[2]] = 1\n",
    "        else:\n",
    "            candidates[row[2]] = candidates[row[2]] + 1\n",
    "    \n",
    "    winner = max(candidates, key=candidates.get)\n",
    "    #print(candidates)\n",
    "    key = list(candidates.keys())\n",
    "    key0_results = candidates.get(key[0])/total_votes * 100\n",
    "    key1_results = candidates.get(key[1])/total_votes * 100\n",
    "    key2_results = candidates.get(key[2])/total_votes * 100\n",
    "    key3_results = candidates.get(key[3])/total_votes * 100\n",
    "    print(\"Election Results\" + \n",
    "          '\\n' + \n",
    "          \"-------------------------\" + \n",
    "          '\\n' + \n",
    "          f\"Total votes: {total_votes}\" + \n",
    "          '\\n' + \n",
    "          \"-------------------------\" + \n",
    "          '\\n' + \n",
    "          f\"{key[0]}: {round(key0_results, 3)}% ({candidates.get(key[0])})\" + \n",
    "          \"\\n\" +\n",
    "          f\"{key[1]}: {round(key1_results, 3)}% ({candidates.get(key[1])})\" +\n",
    "          \"\\n\" +\n",
    "          f\"{key[2]}: {round(key2_results, 3)}% ({candidates.get(key[2])})\" +\n",
    "          \"\\n\" +\n",
    "          f\"{key[3]}: {round(key3_results, 3)}% ({candidates.get(key[3])})\" +\n",
    "          \"\\n\" +\n",
    "          \"-------------------------\" + \n",
    "          \"\\n\" + \n",
    "          f\"Winner: {winner}\" + \n",
    "          \"\\n\" + \n",
    "          \"-------------------------\")\n",
    "\n",
    "    with open('output.txt', 'w') as txtfile:\n",
    "            txtfile.write(\"Election Results\" + \n",
    "          '\\n' + \n",
    "          \"-------------------------\" + \n",
    "          '\\n' + \n",
    "          f\"Total votes: {total_votes}\" + \n",
    "          '\\n' + \n",
    "          \"-------------------------\" + \n",
    "          '\\n' + \n",
    "          f\"{key[0]}: {key0_results}% ({candidates.get(key[0])})\" + \n",
    "          \"\\n\" +\n",
    "          f\"{key[1]}: {key1_results}% ({candidates.get(key[1])})\" +\n",
    "          \"\\n\" +\n",
    "          f\"{key[2]}: {key2_results}% ({candidates.get(key[2])})\" +\n",
    "          \"\\n\" +\n",
    "          f\"{key[3]}: {key3_results}% ({candidates.get(key[3])})\" +\n",
    "          \"\\n\" +\n",
    "          \"-------------------------\" + \n",
    "          \"\\n\" + \n",
    "          f\"Winner: {winner}\" + \n",
    "          \"\\n\" + \n",
    "          \"-------------------------\")"
   ]
  },
  {
   "cell_type": "code",
   "execution_count": null,
   "metadata": {},
   "outputs": [],
   "source": []
  },
  {
   "cell_type": "code",
   "execution_count": null,
   "metadata": {},
   "outputs": [],
   "source": []
  },
  {
   "cell_type": "code",
   "execution_count": null,
   "metadata": {},
   "outputs": [],
   "source": []
  },
  {
   "cell_type": "code",
   "execution_count": null,
   "metadata": {},
   "outputs": [],
   "source": []
  }
 ],
 "metadata": {
  "kernelspec": {
   "display_name": "Python 3",
   "language": "python",
   "name": "python3"
  },
  "language_info": {
   "codemirror_mode": {
    "name": "ipython",
    "version": 3
   },
   "file_extension": ".py",
   "mimetype": "text/x-python",
   "name": "python",
   "nbconvert_exporter": "python",
   "pygments_lexer": "ipython3",
   "version": "3.6.10"
  }
 },
 "nbformat": 4,
 "nbformat_minor": 4
}
